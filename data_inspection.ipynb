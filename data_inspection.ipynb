{
 "cells": [
  {
   "cell_type": "code",
   "execution_count": 38,
   "id": "initial_id",
   "metadata": {
    "ExecuteTime": {
     "end_time": "2024-12-05T14:59:38.165992Z",
     "start_time": "2024-12-05T14:59:38.142823Z"
    },
    "collapsed": true
   },
   "outputs": [],
   "source": [
    "import json\n",
    "\n",
    "f = open('./data/01_training_dataset_geojson_nuclei/training_set_metastatic_roi_001_nuclei.geojson')\n",
    "nuclei = json.load(f)"
   ]
  },
  {
   "cell_type": "code",
   "execution_count": 39,
   "id": "742d29fcedc2c16c",
   "metadata": {
    "ExecuteTime": {
     "end_time": "2024-12-05T14:59:38.873963Z",
     "start_time": "2024-12-05T14:59:38.865847Z"
    }
   },
   "outputs": [
    {
     "data": {
      "text/plain": [
       "dict_keys(['type', 'features'])"
      ]
     },
     "execution_count": 39,
     "metadata": {},
     "output_type": "execute_result"
    }
   ],
   "source": [
    "nuclei.keys()"
   ]
  },
  {
   "cell_type": "code",
   "execution_count": 40,
   "id": "0f3f9918",
   "metadata": {},
   "outputs": [
    {
     "data": {
      "text/plain": [
       "(200, 0, 0)"
      ]
     },
     "execution_count": 40,
     "metadata": {},
     "output_type": "execute_result"
    }
   ],
   "source": [
    "tuple(nuclei[\"features\"][0][\"properties\"][\"classification\"][\"color\"])"
   ]
  },
  {
   "cell_type": "code",
   "execution_count": 41,
   "id": "2e31ea5132df8a70",
   "metadata": {
    "ExecuteTime": {
     "end_time": "2024-12-05T14:59:39.577263Z",
     "start_time": "2024-12-05T14:59:39.570436Z"
    }
   },
   "outputs": [
    {
     "data": {
      "text/plain": [
       "{'nuclei_apoptosis', 'nuclei_endothelium', 'nuclei_lymphocyte', 'nuclei_tumor'}"
      ]
     },
     "execution_count": 41,
     "metadata": {},
     "output_type": "execute_result"
    }
   ],
   "source": [
    "set([nucleus[\"properties\"][\"classification\"][\"name\"] for nucleus in nuclei[\"features\"]])"
   ]
  },
  {
   "cell_type": "code",
   "execution_count": 42,
   "id": "c6a305e450a5ee3d",
   "metadata": {
    "ExecuteTime": {
     "end_time": "2024-12-05T14:59:40.909648Z",
     "start_time": "2024-12-05T14:59:40.709694Z"
    }
   },
   "outputs": [
    {
     "name": "stdout",
     "output_type": "stream",
     "text": [
      "633\n"
     ]
    }
   ],
   "source": [
    "import numpy as np\n",
    "\n",
    "nucleus = np.array(nuclei[\"features\"][0][\"geometry\"][\"coordinates\"][0]).flatten().tolist()\n",
    "nuclei_coordinates = [np.array(nucleus[\"geometry\"][\"coordinates\"][0]).flatten().tolist() for nucleus in nuclei[\"features\"]]\n",
    "print(len(nuclei_coordinates))\n",
    "colors = [tuple(nucleus[\"properties\"][\"classification\"][\"color\"]) for nucleus in nuclei[\"features\"]]"
   ]
  },
  {
   "cell_type": "code",
   "execution_count": 43,
   "id": "33dc973589ef309a",
   "metadata": {
    "ExecuteTime": {
     "end_time": "2024-12-05T15:12:46.887573Z",
     "start_time": "2024-12-05T15:12:46.016021Z"
    }
   },
   "outputs": [],
   "source": [
    "from PIL import Image, ImageDraw\n",
    "\n",
    "image = Image.open('./data/01_training_dataset_tif_ROIs/training_set_metastatic_roi_001.tif').convert('RGBA')\n",
    "im_copy = image.copy()\n",
    "draw = ImageDraw.Draw(im_copy)\n",
    "ci = 0\n",
    "for nucleus in nuclei_coordinates:\n",
    "    draw.polygon(nucleus, fill=colors[ci])\n",
    "    ci += 1\n",
    "im_final = Image.blend(image, im_copy, 0.5)\n",
    "im_final.show()"
   ]
  },
  {
   "cell_type": "code",
   "execution_count": null,
   "id": "dfeb1c54d10820d6",
   "metadata": {},
   "outputs": [],
   "source": []
  }
 ],
 "metadata": {
  "kernelspec": {
   "display_name": "AI_Main",
   "language": "python",
   "name": "python3"
  },
  "language_info": {
   "codemirror_mode": {
    "name": "ipython",
    "version": 3
   },
   "file_extension": ".py",
   "mimetype": "text/x-python",
   "name": "python",
   "nbconvert_exporter": "python",
   "pygments_lexer": "ipython3",
   "version": "3.11.10"
  }
 },
 "nbformat": 4,
 "nbformat_minor": 5
}
