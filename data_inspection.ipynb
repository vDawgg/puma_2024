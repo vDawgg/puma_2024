{
 "cells": [
  {
   "cell_type": "code",
   "id": "initial_id",
   "metadata": {
    "collapsed": true,
    "ExecuteTime": {
     "end_time": "2024-12-05T14:59:38.165992Z",
     "start_time": "2024-12-05T14:59:38.142823Z"
    }
   },
   "source": [
    "import json\n",
    "\n",
    "f = open('./data/01_training_dataset_geojson_nuclei/training_set_metastatic_roi_001_nuclei.geojson')\n",
    "nuclei = json.load(f)"
   ],
   "outputs": [],
   "execution_count": 1
  },
  {
   "metadata": {
    "ExecuteTime": {
     "end_time": "2024-12-05T14:59:38.873963Z",
     "start_time": "2024-12-05T14:59:38.865847Z"
    }
   },
   "cell_type": "code",
   "source": "nuclei.keys()",
   "id": "742d29fcedc2c16c",
   "outputs": [
    {
     "data": {
      "text/plain": [
       "dict_keys(['type', 'features'])"
      ]
     },
     "execution_count": 2,
     "metadata": {},
     "output_type": "execute_result"
    }
   ],
   "execution_count": 2
  },
  {
   "metadata": {
    "ExecuteTime": {
     "end_time": "2024-12-05T14:59:39.577263Z",
     "start_time": "2024-12-05T14:59:39.570436Z"
    }
   },
   "cell_type": "code",
   "source": "set([nucleus[\"properties\"][\"classification\"][\"name\"] for nucleus in nuclei[\"features\"]])",
   "id": "2e31ea5132df8a70",
   "outputs": [
    {
     "data": {
      "text/plain": [
       "{'nuclei_apoptosis', 'nuclei_endothelium', 'nuclei_lymphocyte', 'nuclei_tumor'}"
      ]
     },
     "execution_count": 3,
     "metadata": {},
     "output_type": "execute_result"
    }
   ],
   "execution_count": 3
  },
  {
   "metadata": {
    "ExecuteTime": {
     "end_time": "2024-12-05T14:59:40.909648Z",
     "start_time": "2024-12-05T14:59:40.709694Z"
    }
   },
   "cell_type": "code",
   "source": [
    "import numpy as np\n",
    "\n",
    "nucleus = np.array(nuclei[\"features\"][0][\"geometry\"][\"coordinates\"][0]).flatten().tolist()\n",
    "nuclei_coordinates = [np.array(nucleus[\"geometry\"][\"coordinates\"][0]).flatten().tolist() for nucleus in nuclei[\"features\"]]"
   ],
   "id": "c6a305e450a5ee3d",
   "outputs": [],
   "execution_count": 4
  },
  {
   "metadata": {
    "ExecuteTime": {
     "end_time": "2024-12-05T15:12:46.887573Z",
     "start_time": "2024-12-05T15:12:46.016021Z"
    }
   },
   "cell_type": "code",
   "source": [
    "from PIL import Image, ImageDraw\n",
    "\n",
    "image = Image.open('./data/01_training_dataset_tif_ROIs/training_set_metastatic_roi_001.tif').convert('RGBA')\n",
    "im_copy = image.copy()\n",
    "draw = ImageDraw.Draw(im_copy)\n",
    "for nucleus in nuclei_coordinates:\n",
    "    draw.polygon(nucleus, fill=\"green\")\n",
    "im_final = Image.blend(image, im_copy, 0.5)\n",
    "im_final.show()"
   ],
   "id": "33dc973589ef309a",
   "outputs": [],
   "execution_count": 12
  },
  {
   "metadata": {},
   "cell_type": "code",
   "outputs": [],
   "execution_count": null,
   "source": "",
   "id": "dfeb1c54d10820d6"
  }
 ],
 "metadata": {
  "kernelspec": {
   "display_name": "Python 3",
   "language": "python",
   "name": "python3"
  },
  "language_info": {
   "codemirror_mode": {
    "name": "ipython",
    "version": 2
   },
   "file_extension": ".py",
   "mimetype": "text/x-python",
   "name": "python",
   "nbconvert_exporter": "python",
   "pygments_lexer": "ipython2",
   "version": "2.7.6"
  }
 },
 "nbformat": 4,
 "nbformat_minor": 5
}
